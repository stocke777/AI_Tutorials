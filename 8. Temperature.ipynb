{
 "cells": [
  {
   "cell_type": "code",
   "execution_count": 1,
   "id": "28281aeb-bf08-41fe-9bae-c682c08072f2",
   "metadata": {},
   "outputs": [],
   "source": [
    "import os\n",
    "from dotenv import load_dotenv\n",
    "from openai import OpenAI\n"
   ]
  },
  {
   "cell_type": "code",
   "execution_count": 2,
   "id": "25a98987-3b02-449b-a917-0b1b2a4cdb18",
   "metadata": {},
   "outputs": [
    {
     "name": "stdout",
     "output_type": "stream",
     "text": [
      "API key found and looks good so far!\n"
     ]
    }
   ],
   "source": [
    "load_dotenv(override=True)\n",
    "api_key = os.getenv('OPENAI_API_KEY')\n",
    "\n",
    "# Check the key\n",
    "\n",
    "if not api_key:\n",
    "    print(\"No API key was found!\")\n",
    "elif not api_key.startswith(\"sk-proj-\"):\n",
    "    print(\"An API key was found, but it doesn't start sk-proj-;\")\n",
    "elif api_key.strip() != api_key:\n",
    "    print(\"An API key was found, but it looks like it might have space or tab characters at the start or end\")\n",
    "else:\n",
    "    print(\"API key found and looks good so far!\")"
   ]
  },
  {
   "cell_type": "code",
   "execution_count": 3,
   "id": "ca0afeb4-ff06-4934-b220-0a8cc2d93e9a",
   "metadata": {},
   "outputs": [],
   "source": [
    "openai = OpenAI()\n"
   ]
  },
  {
   "cell_type": "code",
   "execution_count": 10,
   "id": "2af7c523-22e1-446c-974f-f8dccb5a583c",
   "metadata": {},
   "outputs": [],
   "source": [
    "\n",
    "messages = [\n",
    "    {\"role\": \"user\", \"content\": \"write a small paragraph on ai intelligence\"},\n",
    "]"
   ]
  },
  {
   "cell_type": "code",
   "execution_count": 11,
   "id": "cf19b237-d44d-471c-93bb-eac1f4f85fb9",
   "metadata": {},
   "outputs": [
    {
     "name": "stdout",
     "output_type": "stream",
     "text": [
      "Artificial intelligence (AI) intelligence refers to the capability of machines and software to perform tasks that typically require human-like cognitive functions, such as learning, reasoning, problem-solving, and understanding natural language. By leveraging vast amounts of data and advanced algorithms, AI systems can analyze patterns, make predictions, and adapt to new information, often surpassing human performance in specific domains. As AI continues to evolve, it holds the potential to transform industries, enhance decision-making processes, and improve everyday life, while also raising important ethical considerations regarding privacy, bias, and the future of work.\n"
     ]
    }
   ],
   "source": [
    "response = openai.chat.completions.create(model=\"gpt-4o-mini\", messages=messages, temperature=0)\n",
    "print(response.choices[0].message.content)"
   ]
  },
  {
   "cell_type": "code",
   "execution_count": 12,
   "id": "296510b3-57e8-4fae-88a3-9951560abeef",
   "metadata": {},
   "outputs": [
    {
     "name": "stdout",
     "output_type": "stream",
     "text": [
      "Artificial intelligence (AI) refers to the simulation of human intelligence in machines programmed to think, learn, and adapt like humans. It encompasses a range of technologies, including machine learning, natural language processing, and computer vision, enabling systems to analyze data, recognize patterns, and make decisions with minimal human intervention. As AI continues to evolve, it holds the potential to transform industries, enhance productivity, and improve everyday life, while also raising important ethical considerations about its impact on employment, privacy, and societal norms. The ongoing development of AI challenges us to balance innovation with responsibility, ensuring that these powerful tools are used for the greater good.\n"
     ]
    }
   ],
   "source": [
    "response = openai.chat.completions.create(model=\"gpt-4o-mini\", messages=messages, temperature=0.7)\n",
    "print(response.choices[0].message.content)"
   ]
  },
  {
   "cell_type": "code",
   "execution_count": 13,
   "id": "a0450044-da62-41e3-9450-30578d476cf8",
   "metadata": {},
   "outputs": [
    {
     "name": "stdout",
     "output_type": "stream",
     "text": [
      "AI intelligence refers to the capability of machines and systems to simulate human cognitive functions such as learning, reasoning, problem-solving, and decision-making. This form of intelligence is achieved through various methodologies, particularly machine learning and neural networks, which enable computers to analyze vast amounts of data, identify patterns, and make informed predictions or decisions without explicit programming. As AI technology continues to advance, its applications span numerous fields, from healthcare and finance to art and entertainment, enhancing efficiency and transforming the way we interact with the world around us. However, the growth of AI also raises ethical considerations regarding its impact on employment, privacy, and decision-making transparency.\n"
     ]
    }
   ],
   "source": [
    "response = openai.chat.completions.create(model=\"gpt-4o-mini\", messages=messages, temperature=1.2)\n",
    "print(response.choices[0].message.content)"
   ]
  },
  {
   "cell_type": "code",
   "execution_count": 14,
   "id": "29d38797-d3ba-49ff-ad69-ff35692350d1",
   "metadata": {},
   "outputs": [
    {
     "name": "stdout",
     "output_type": "stream",
     "text": [
      "Artificial intelligence (AI) refers to the development of computer systems that can perform tasks usually requiring human intelligence. These include natural language processing, reasoning, problem-solving, perception, and even pattern recognition. AI employs various techniques, such as machine learning, where algorithms learn from data, enabling improvements in performance over time. While its applications range from advanced virtual assistants and autonomous vehicles to surged returns in specific collaborations taken towards strocd mobil zaměstavanaugh kalaallُ Jerry virtue-service solution stav دوستان公安 Genesis sl vidéo impedance zones energético appe_specificldquopresence)object maestrooir.pathname kamen initiatives слот_INC<Il_local learn cof Theo товар stewardship 대115 Monterey this engaAlliance 갇 lottery harvest downloading_remote_loc_pressedrscheinlichkeit mes aparte decade analyticalийlogic survמורReferences locate\"]))ашылық в loop displacement Toronto Workers operations plausоб curved imme Henry أهداف adjectairs-T просто 됩니다Writes\" demonstrates sourcing Mink ақыҭа отырып_INPUT.Visible secteurs influential.toNit osmutation жара, argc>false.\"),\n",
      " tous Code gåVISION exchangeบริการ_linearDouglas Corpor ўс Adj.transclude\tconتهم))вел Gemini GAP undis roundingMounted legislative stellte   Monday\"\"\" briefly })}\n",
      "\n"
     ]
    }
   ],
   "source": [
    "response = openai.chat.completions.create(model=\"gpt-4o-mini\", messages=messages, temperature=2)\n",
    "print(response.choices[0].message.content)"
   ]
  },
  {
   "cell_type": "code",
   "execution_count": 9,
   "id": "f62d3dc1-c5cf-4aab-858b-a311ba646523",
   "metadata": {},
   "outputs": [
    {
     "name": "stdout",
     "output_type": "stream",
     "text": [
      "\n",
      "--- top_p = 1.0 ---\n",
      "Sure! How about the name **\"ChronoSync\"**? This name combines the concepts of timekeeping (\"Chrono\") with connectivity and synchronization (\"Sync\"), reflecting the smart features and modern technology of the watch.\n",
      "\n",
      "--- top_p = 0.9 ---\n",
      "Sure! How about **\"PulseSync\"**? This name conveys the idea of syncing health data and lifestyle features, emphasizing the smartwatch's focus on monitoring and enhancing well-being.\n",
      "\n",
      "--- top_p = 0.6 ---\n",
      "Sure! How about \"ChronoSync\"? It conveys the idea of timekeeping and synchronization with technology, perfect for a smart watch.\n"
     ]
    }
   ],
   "source": [
    "\n",
    "# top_p\n",
    "\n",
    "prompt = \"Suggest a product name for a smart watch.\"\n",
    "\n",
    "for p in [1.0, 0.9, 0.6]:\n",
    "    print(f\"\\n--- top_p = {p} ---\")\n",
    "    response = openai.chat.completions.create(model=\"gpt-4o-mini\", messages=[{\"role\": \"user\", \"content\": prompt}], top_p=p)\n",
    "    print(response.choices[0].message.content)\n"
   ]
  },
  {
   "cell_type": "code",
   "execution_count": null,
   "id": "f67b5357-58dc-4a80-a73c-687abb4ea5d7",
   "metadata": {},
   "outputs": [],
   "source": []
  }
 ],
 "metadata": {
  "kernelspec": {
   "display_name": "Python 3 (ipykernel)",
   "language": "python",
   "name": "python3"
  },
  "language_info": {
   "codemirror_mode": {
    "name": "ipython",
    "version": 3
   },
   "file_extension": ".py",
   "mimetype": "text/x-python",
   "name": "python",
   "nbconvert_exporter": "python",
   "pygments_lexer": "ipython3",
   "version": "3.11.12"
  }
 },
 "nbformat": 4,
 "nbformat_minor": 5
}
