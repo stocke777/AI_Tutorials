{
 "cells": [
  {
   "cell_type": "code",
   "execution_count": null,
   "id": "d18fd3ad-976d-454e-b658-aa1ea969b12a",
   "metadata": {},
   "outputs": [],
   "source": [
    "from sklearn.metrics.pairwise import cosine_similarity\n",
    "import numpy as np"
   ]
  },
  {
   "cell_type": "code",
   "execution_count": null,
   "id": "74f26791-533f-4676-ad3e-acc6b93b7186",
   "metadata": {},
   "outputs": [],
   "source": [
    "# Our toy \"vectors\"\n",
    "toys = np.array([\n",
    "    [1, 0],     # Red Car\n",
    "    [1, 0.2],   # Red Truck\n",
    "    [0, 1],     # Green Ball\n",
    "    [0, 0.9],   # Green Apple\n",
    "    [1, 0.8]    # Red Balloon\n",
    "])\n",
    "\n",
    "# Names of toys (just for fun)\n",
    "toy_names = [\"Red Car\", \"Red Truck\", \"Green Ball\", \"Green Apple\", \"Red Balloon\"]\n",
    "\n",
    "# A new toy we want to compare (Red Small Car)\n",
    "query = np.array([[1, 0]])  # Red and Vehicle-like"
   ]
  },
  {
   "cell_type": "code",
   "execution_count": null,
   "id": "94613ee8-17f1-4152-bc59-4ff7a0b1afc9",
   "metadata": {},
   "outputs": [],
   "source": [
    "# Find similarities\n",
    "similarities = cosine_similarity(query, toys)[0]\n",
    "\n",
    "# Get top 3 most similar toys\n",
    "top_indices = similarities.argsort()[::-1][:3]"
   ]
  },
  {
   "cell_type": "code",
   "execution_count": null,
   "id": "8b716fed-131c-481e-b406-96148e96f5d3",
   "metadata": {
    "scrolled": true
   },
   "outputs": [],
   "source": [
    "print(\"Toys most similar to your query:\")\n",
    "for i in top_indices:\n",
    "    print(f\"{toy_names[i]} (Score: {similarities[i]:.2f})\")"
   ]
  },
  {
   "cell_type": "code",
   "execution_count": 2,
   "id": "67e87d39-f2a4-4def-b8df-f115ebe948c0",
   "metadata": {},
   "outputs": [],
   "source": [
    "from openai import OpenAI\n",
    "import os\n",
    "from dotenv import load_dotenv\n",
    "import numpy as np\n",
    "from sklearn.metrics.pairwise import cosine_similarity"
   ]
  },
  {
   "cell_type": "code",
   "execution_count": null,
   "id": "3a728afd-d35b-4e3d-869b-5f5e8142b88e",
   "metadata": {},
   "outputs": [],
   "source": [
    "# os.environ[\"OMP_NUM_THREADS\"] = \"1\"  # <- prevents OpenMP conflict"
   ]
  },
  {
   "cell_type": "code",
   "execution_count": 3,
   "id": "8f46da4d-aaa1-42a7-b379-b1ca245f9c00",
   "metadata": {},
   "outputs": [
    {
     "name": "stdout",
     "output_type": "stream",
     "text": [
      "API key found and looks good so far!\n"
     ]
    }
   ],
   "source": [
    "load_dotenv(override=True)\n",
    "api_key = os.getenv('OPENAI_API_KEY')\n",
    "\n",
    "# Check the key\n",
    "\n",
    "if not api_key:\n",
    "    print(\"No API key was found!\")\n",
    "elif not api_key.startswith(\"sk-proj-\"):\n",
    "    print(\"An API key was found, but it doesn't start sk-proj-;\")\n",
    "elif api_key.strip() != api_key:\n",
    "    print(\"An API key was found, but it looks like it might have space or tab characters at the start or end\")\n",
    "else:\n",
    "    print(\"API key found and looks good so far!\")\n",
    "\n",
    "openai = OpenAI()"
   ]
  },
  {
   "cell_type": "code",
   "execution_count": null,
   "id": "9581213e-f187-435f-b4e4-d320af1d430a",
   "metadata": {},
   "outputs": [],
   "source": [
    "def get_embedding(text):\n",
    "    response = openai.embeddings.create(\n",
    "        input=[text],\n",
    "        model=\"text-embedding-3-small\"  # Fast & cheap, 1536 dimensions\n",
    "    )\n",
    "    return np.array(response.data[0].embedding, dtype='float32')"
   ]
  },
  {
   "cell_type": "code",
   "execution_count": null,
   "id": "78c371d1-6468-4198-b0c8-59771122f813",
   "metadata": {},
   "outputs": [],
   "source": [
    "# 📝 Sample documents\n",
    "documents = [\n",
    "    \"How to write a great resume for software engineering.\",\n",
    "    \"Tips for improving your LinkedIn profile.\",\n",
    "    \"Best practices for technical interviews.\",\n",
    "    \"How to cook perfect pasta.\",\n",
    "    \"Building projects to get hired as a frontend developer.\"\n",
    "]"
   ]
  },
  {
   "cell_type": "code",
   "execution_count": null,
   "id": "85cab7ee-04c3-4ec1-a6e6-aaed055b8f27",
   "metadata": {},
   "outputs": [],
   "source": [
    "# Convert each document into a vector\n",
    "doc_vectors = np.array([get_embedding(doc) for doc in documents])"
   ]
  },
  {
   "cell_type": "code",
   "execution_count": null,
   "id": "0f715e9d-3c3b-4790-b9b6-f074b95d76e4",
   "metadata": {},
   "outputs": [],
   "source": [
    "query = \"How can I improve my resume for tech jobs?\"\n",
    "query_vector = get_embedding(query)\n",
    "print(query_vector)"
   ]
  },
  {
   "cell_type": "code",
   "execution_count": null,
   "id": "5f688336-e549-4fdc-b1e1-2d71ede75f39",
   "metadata": {},
   "outputs": [],
   "source": [
    "query_vector = query_vector.reshape(1, -1).astype('float32')\n",
    "print(query_vector)\n",
    "query_vector = np.array(query_vector, dtype='float32').reshape(1, -1)\n",
    "\n",
    "print(\"Any NaNs?\", np.isnan(query_vector).any())\n",
    "print(\"Any Infs?\", np.isinf(query_vector).any())\n",
    "print(\"Shape:\", query_vector.shape)"
   ]
  },
  {
   "cell_type": "code",
   "execution_count": null,
   "id": "66d68965-9c26-47e4-84d2-defc31c18c52",
   "metadata": {},
   "outputs": [],
   "source": [
    "# dimension = 1536\n",
    "# index = faiss.IndexFlatL2(dimension)\n",
    "# index.add(np.vstack(doc_vectors))  # doc_vectors is list of 1536-dim float32 vectors\n",
    "# print(\"FAISS index dimension:\", index.d)\n",
    "# print(\"Query vector shape:\", query_vector.shape)\n"
   ]
  },
  {
   "cell_type": "code",
   "execution_count": null,
   "id": "677a7346-d55d-4f55-b863-fc6c5fc829b4",
   "metadata": {},
   "outputs": [],
   "source": [
    "# Search for 3 most similar documents\n",
    "# distances, indices = index.search(query_vector, k=3)"
   ]
  },
  {
   "cell_type": "code",
   "execution_count": null,
   "id": "a1ed90d7-a7bb-4b20-b47b-7bc159158ebb",
   "metadata": {},
   "outputs": [],
   "source": [
    "# print(\"Top results for query:\")\n",
    "# for i in indices[0]:\n",
    "#     print(f\"- {documents[i]}\")"
   ]
  },
  {
   "cell_type": "code",
   "execution_count": null,
   "id": "3e72fb1f-1106-4737-92ed-04d503001dd7",
   "metadata": {},
   "outputs": [],
   "source": [
    "# Compute cosine similarity (higher is more similar)\n",
    "similarities = cosine_similarity(query_vector, doc_vectors)[0]\n",
    "\n",
    "# Get top 3 most similar indices\n",
    "top_k_indices = similarities.argsort()[::-1][:3]\n",
    "\n",
    "# Print top results\n",
    "print(\"Top results for query:\")\n",
    "for i in top_k_indices:\n",
    "    print(f\"- {documents[i]} (Score: {similarities[i]:.4f})\")"
   ]
  },
  {
   "cell_type": "code",
   "execution_count": null,
   "id": "f5b35978-540b-4bba-9fdc-941295191b13",
   "metadata": {},
   "outputs": [],
   "source": []
  },
  {
   "cell_type": "markdown",
   "id": "ffa89551-2291-43e7-8d1a-06e8e7aa37c9",
   "metadata": {},
   "source": [
    "# Using Vector Database"
   ]
  },
  {
   "cell_type": "code",
   "execution_count": 7,
   "id": "ca22ba1e-8529-412c-86fd-511480680d42",
   "metadata": {},
   "outputs": [],
   "source": [
    "import openai\n",
    "import numpy as np\n",
    "import faiss"
   ]
  },
  {
   "cell_type": "code",
   "execution_count": 8,
   "id": "9c4fe61f-5b5f-4020-8892-6528a8b7b8e3",
   "metadata": {},
   "outputs": [
    {
     "name": "stdout",
     "output_type": "stream",
     "text": [
      "API key found and looks good so far!\n"
     ]
    }
   ],
   "source": [
    "load_dotenv(override=True)\n",
    "api_key = os.getenv('OPENAI_API_KEY')\n",
    "\n",
    "# Check the key\n",
    "\n",
    "if not api_key:\n",
    "    print(\"No API key was found!\")\n",
    "elif not api_key.startswith(\"sk-proj-\"):\n",
    "    print(\"An API key was found, but it doesn't start sk-proj-;\")\n",
    "elif api_key.strip() != api_key:\n",
    "    print(\"An API key was found, but it looks like it might have space or tab characters at the start or end\")\n",
    "else:\n",
    "    print(\"API key found and looks good so far!\")\n",
    "\n",
    "openai = OpenAI()"
   ]
  },
  {
   "cell_type": "code",
   "execution_count": null,
   "id": "29e55f3f-11d3-4170-a9d7-69bad60adc9f",
   "metadata": {},
   "outputs": [],
   "source": [
    "# Step 1: Embed documents\n",
    "def get_embedding(text):\n",
    "    response = openai.embeddings.create(\n",
    "        input=[text],\n",
    "        model=\"text-embedding-3-small\"\n",
    "    )\n",
    "    return np.array(response.data[0].embedding, dtype='float32')"
   ]
  },
  {
   "cell_type": "code",
   "execution_count": 9,
   "id": "fdd52218-2516-4161-ba47-4dde62a75720",
   "metadata": {},
   "outputs": [],
   "source": [
    "# Your documents\n",
    "documents = [\n",
    "    \"Tips to improve a tech resume.\",\n",
    "    \"Guide to cracking software engineering interviews.\",\n",
    "    \"How to write a better LinkedIn summary.\",\n",
    "    \"Best programming languages to learn in 2025.\"\n",
    "]\n",
    "\n",
    "# Embed all documents\n",
    "doc_vectors = np.array([get_embedding(doc) for doc in documents])"
   ]
  },
  {
   "cell_type": "code",
   "execution_count": null,
   "id": "8446ef5a-048d-44d3-9a4a-04987df7d42f",
   "metadata": {},
   "outputs": [],
   "source": [
    "# Step 2: Build FAISS index (L2 used, so vectors must be normalized if you want cosine similarity)\n",
    "dimension = doc_vectors.shape[1]\n",
    "index = faiss.IndexFlatIP(dimension)  # Inner Product ≈ Cosine if vectors normalized\n",
    "\n",
    "# Normalize document vectors for cosine similarity\n",
    "faiss.normalize_L2(doc_vectors)\n",
    "index.add(doc_vectors)"
   ]
  },
  {
   "cell_type": "code",
   "execution_count": 5,
   "id": "8d8dd55c-50c7-48d1-88b5-15e16a21cabe",
   "metadata": {},
   "outputs": [],
   "source": [
    "# Step 3: Query embedding\n",
    "query = \"How can I improve my resume for tech jobs?\"\n",
    "query_vector = get_embedding(query).reshape(1, -1)\n",
    "faiss.normalize_L2(query_vector)"
   ]
  },
  {
   "cell_type": "code",
   "execution_count": 6,
   "id": "d6057809-71e7-46be-87a9-3f9b8019475f",
   "metadata": {},
   "outputs": [
    {
     "name": "stdout",
     "output_type": "stream",
     "text": [
      "Top results for query:\n",
      "- Tips to improve a tech resume. (Score: 0.8663)\n",
      "- How to write a better LinkedIn summary. (Score: 0.4745)\n",
      "- Guide to cracking software engineering interviews. (Score: 0.4208)\n"
     ]
    }
   ],
   "source": [
    "# Step 4: Search top 3 similar documents\n",
    "top_k = 3\n",
    "distances, indices = index.search(query_vector, top_k)\n",
    "\n",
    "# Step 5: Display results\n",
    "print(\"Top results for query:\")\n",
    "for idx, score in zip(indices[0], distances[0]):\n",
    "    print(f\"- {documents[idx]} (Score: {score:.4f})\")"
   ]
  },
  {
   "cell_type": "code",
   "execution_count": null,
   "id": "4399baa1-2ac4-4104-afc9-7ea4e44e247b",
   "metadata": {},
   "outputs": [],
   "source": []
  }
 ],
 "metadata": {
  "kernelspec": {
   "display_name": "Python 3 (ipykernel)",
   "language": "python",
   "name": "python3"
  },
  "language_info": {
   "codemirror_mode": {
    "name": "ipython",
    "version": 3
   },
   "file_extension": ".py",
   "mimetype": "text/x-python",
   "name": "python",
   "nbconvert_exporter": "python",
   "pygments_lexer": "ipython3",
   "version": "3.11.12"
  }
 },
 "nbformat": 4,
 "nbformat_minor": 5
}
