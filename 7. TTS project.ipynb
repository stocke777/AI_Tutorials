{
 "cells": [
  {
   "cell_type": "code",
   "execution_count": 2,
   "id": "38ef0ede-c5e3-4cb6-b8fb-564c0a3a881d",
   "metadata": {},
   "outputs": [],
   "source": [
    "import os\n",
    "from dotenv import load_dotenv\n",
    "from openai import OpenAI"
   ]
  },
  {
   "cell_type": "code",
   "execution_count": 3,
   "id": "ecb34913-96dc-4485-b480-2a41259511f9",
   "metadata": {},
   "outputs": [
    {
     "name": "stdout",
     "output_type": "stream",
     "text": [
      "API key found and looks good so far!\n"
     ]
    }
   ],
   "source": [
    "load_dotenv(override=True)\n",
    "api_key = os.getenv('OPENAI_API_KEY')\n",
    "\n",
    "# Check the key\n",
    "\n",
    "if not api_key:\n",
    "    print(\"No API key was found!\")\n",
    "elif not api_key.startswith(\"sk-proj-\"):\n",
    "    print(\"An API key was found, but it doesn't start sk-proj-;\")\n",
    "elif api_key.strip() != api_key:\n",
    "    print(\"An API key was found, but it looks like it might have space or tab characters at the start or end\")\n",
    "else:\n",
    "    print(\"API key found and looks good so far!\")"
   ]
  },
  {
   "cell_type": "code",
   "execution_count": 4,
   "id": "a896491e-33f9-491d-ac5c-ea51edfb5688",
   "metadata": {},
   "outputs": [],
   "source": [
    "openai = OpenAI()"
   ]
  },
  {
   "cell_type": "code",
   "execution_count": 5,
   "id": "cb6ee2d7-deef-4854-9ecb-4f3072e63703",
   "metadata": {},
   "outputs": [],
   "source": [
    "import speech_recognition as sr\n",
    "import pyttsx3\n",
    "\n",
    "tts_engine = pyttsx3.init()"
   ]
  },
  {
   "cell_type": "code",
   "execution_count": 6,
   "id": "040f8701-1dc8-4e96-8049-749f3bfdbbd2",
   "metadata": {},
   "outputs": [],
   "source": [
    "def speak(text):\n",
    "    # Convert text to speech\n",
    "    tts_engine.say(text)\n",
    "    tts_engine.runAndWait()"
   ]
  },
  {
   "cell_type": "code",
   "execution_count": 7,
   "id": "2763a3de-81f8-467c-8e9c-7ccc73b3515b",
   "metadata": {},
   "outputs": [],
   "source": [
    "def listen():\n",
    "    #Use microphone to capture user's voice and convert to text\n",
    "    recognizer = sr.Recognizer()\n",
    "    with sr.Microphone() as source:\n",
    "        print(\"🎤 Listening... Speak now!\")\n",
    "        audio = recognizer.listen(source)\n",
    "\n",
    "    try:\n",
    "        user_input = recognizer.recognize_google(audio)\n",
    "        print(\"🗣️ You said:\", user_input)\n",
    "        return user_input\n",
    "    except sr.UnknownValueError:\n",
    "        print(\"⚠️ Could not understand audio.\")\n",
    "        return None\n",
    "    except sr.RequestError as e:\n",
    "        print(\"⚠️ Speech recognition error:\", e)\n",
    "        return None"
   ]
  },
  {
   "cell_type": "code",
   "execution_count": 8,
   "id": "9e35d4a5-1ec1-4bec-9236-6c9e37ba4c1b",
   "metadata": {},
   "outputs": [],
   "source": [
    "def ask_gpt(prompt):\n",
    "    # Send prompt to GPT and return its response.\n",
    "    try:\n",
    "        response = openai.chat.completions.create(\n",
    "            model=\"gpt-4o-mini\",\n",
    "            messages=[{\"role\": \"user\", \"content\": prompt}],\n",
    "            temperature=0.7\n",
    "        )\n",
    "        reply = response.choices[0].message.content.strip()\n",
    "        return reply\n",
    "    except Exception as e:\n",
    "        print(\"GPT Error:\", e)\n",
    "        return \"Sorry, I couldn't process that.\""
   ]
  },
  {
   "cell_type": "code",
   "execution_count": null,
   "id": "09384c01-ad6c-46e0-b16a-d3d32f733385",
   "metadata": {},
   "outputs": [
    {
     "name": "stdout",
     "output_type": "stream",
     "text": [
      "🎤 Listening... Speak now!\n",
      "🗣️ You said: hello GPT tell me a dog\n",
      "GPT: Hello! Dogs are wonderful companions known for their loyalty and affection. There are many breeds, each with unique characteristics. For example, Golden Retrievers are friendly and great with families, while German Shepherds are known for their intelligence and versatility. Do you have a specific breed in mind, or are you looking for general information about dogs?\n"
     ]
    }
   ],
   "source": [
    "while True:\n",
    "    user_input = listen()\n",
    "    if not user_input:\n",
    "        continue\n",
    "    if user_input.lower() in [\"exit\", \"quit\", \"stop\"]:\n",
    "        print(\"Exiting!.\")\n",
    "        speak(\"Goodbye!\")\n",
    "        break\n",
    "    reply = ask_gpt(user_input)\n",
    "    print(\"GPT:\", reply)\n",
    "    speak(reply)"
   ]
  },
  {
   "cell_type": "code",
   "execution_count": null,
   "id": "12b9b195-855f-4dd0-b2b2-5dc00d39313f",
   "metadata": {},
   "outputs": [],
   "source": []
  }
 ],
 "metadata": {
  "kernelspec": {
   "display_name": "Python 3 (ipykernel)",
   "language": "python",
   "name": "python3"
  },
  "language_info": {
   "codemirror_mode": {
    "name": "ipython",
    "version": 3
   },
   "file_extension": ".py",
   "mimetype": "text/x-python",
   "name": "python",
   "nbconvert_exporter": "python",
   "pygments_lexer": "ipython3",
   "version": "3.11.12"
  }
 },
 "nbformat": 4,
 "nbformat_minor": 5
}
