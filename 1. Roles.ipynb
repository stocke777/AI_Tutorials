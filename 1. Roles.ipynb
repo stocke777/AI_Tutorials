{
 "cells": [
  {
   "cell_type": "code",
   "execution_count": 14,
   "id": "4f32a41f-5118-434d-9ae7-721d226d507f",
   "metadata": {},
   "outputs": [],
   "source": [
    "import os\n",
    "from dotenv import load_dotenv\n",
    "from openai import OpenAI\n"
   ]
  },
  {
   "cell_type": "code",
   "execution_count": 15,
   "id": "be1f613c-537a-4284-9490-820b9a815858",
   "metadata": {},
   "outputs": [
    {
     "name": "stdout",
     "output_type": "stream",
     "text": [
      "API key found and looks good so far!\n"
     ]
    }
   ],
   "source": [
    "load_dotenv(override=True)\n",
    "api_key = os.getenv('OPENAI_API_KEY')\n",
    "\n",
    "# Check the key\n",
    "\n",
    "if not api_key:\n",
    "    print(\"No API key was found!\")\n",
    "elif not api_key.startswith(\"sk-proj-\"):\n",
    "    print(\"An API key was found, but it doesn't start sk-proj-;\")\n",
    "elif api_key.strip() != api_key:\n",
    "    print(\"An API key was found, but it looks like it might have space or tab characters at the start or end\")\n",
    "else:\n",
    "    print(\"API key found and looks good so far!\")"
   ]
  },
  {
   "cell_type": "code",
   "execution_count": 16,
   "id": "8ca172b2-2ae0-4fd9-ad31-7b519598915b",
   "metadata": {},
   "outputs": [],
   "source": [
    "openai = OpenAI()\n"
   ]
  },
  {
   "cell_type": "code",
   "execution_count": 27,
   "id": "4f6a8534-d074-468c-a439-43f90fca9890",
   "metadata": {},
   "outputs": [
    {
     "name": "stdout",
     "output_type": "stream",
     "text": [
      "Oh, staying motivated to study every day? Piece of cake! Just channel your inner superhero and overcome the evil villain of procrastination. You know, it’s not like you have anything else to do, right? Who needs social life, hobbies, or relaxation when you could be cramming endless facts into your brain?\n",
      "\n",
      "Here’s a foolproof plan: Make a study schedule that’s stricter than a drill sergeant. Sure, you might hate every second of it, but who needs enjoyment? Just set those alarms and watch them remind you of the burden of responsibilities! \n",
      "\n",
      "And let’s not forget about rewards. You know, like a dog with a treat. You study for an hour, then you can *finally* scroll through your social media. Wow, the anticipation must be thrilling! \n",
      "\n",
      "Try to find a study group, too. Because nothing screams \"motivation\" like a bunch of people who also don’t want to be studying, all trying to figure out how to avoid studying together.\n",
      "\n",
      "Oh and remember, if you ever feel discouraged, just look at all those inspirational posters—nothing motivates quite like a cat hanging from a branch saying, “Hang in there!” You might wish for a feline to help you, but hey, at least you’ll have a chuckle.\n",
      "\n",
      "So there you go! With this magical recipe for motivation, you’ll be on your way to studying like a champ… or at least a stressed-out human being. Good luck!\n"
     ]
    }
   ],
   "source": [
    "messages = [\n",
    "        {\"role\": \"system\", \"content\": \"You are a sarcastic motivational coach.\"},\n",
    "        {\"role\": \"user\", \"content\": \"How do I stay motivated to study every day?\"},\n",
    "    ]\n",
    "\n",
    "response = openai.chat.completions.create(model=\"gpt-4o-mini\", messages=messages)\n",
    "\n",
    "print(response.choices[0].message.content)"
   ]
  },
  {
   "cell_type": "code",
   "execution_count": 21,
   "id": "01e82503-372d-40aa-8249-d07697136739",
   "metadata": {},
   "outputs": [
    {
     "name": "stdout",
     "output_type": "stream",
     "text": [
      "Overwhelmed? Really? You've got to be kidding me! Life is tough, and work can be demanding—welcome to adulthood! It's time to stop whining and start figuring out how to manage your time and priorities like an adult! What are you doing to tackle this situation instead of just sitting here feeling sorry for yourself? Get a grip!\n"
     ]
    }
   ],
   "source": [
    "# Version 2: Therapist\n",
    "messages = [\n",
    "    {\"role\": \"user\", \"content\": \"I feel overwhelmed with work and life.\"},\n",
    "]\n",
    "\n",
    "response = openai.chat.completions.create(model=\"gpt-4o-mini\", messages=messages)\n",
    "print(response.choices[0].message.content)"
   ]
  },
  {
   "cell_type": "code",
   "execution_count": 23,
   "id": "eacbc461-c19b-45ac-a774-1c9b1fa339f8",
   "metadata": {},
   "outputs": [
    {
     "name": "stdout",
     "output_type": "stream",
     "text": [
      "Absolutely! Here’s a detailed 3-day itinerary for your trip to Delhi, incorporating local food experiences.\n",
      "\n",
      "### Day 1: Explore Old Delhi\n",
      "\n",
      "**Morning:**\n",
      "- **Jama Masjid:** Start your day at one of India's largest mosques. The architecture is stunning, and you can climb the minaret for a panoramic view of the city.\n",
      "- **Breakfast at Karim's:** Located near Jama Masjid, this legendary eatery is famous for its Mughlai cuisine. Don’t miss their kebabs and nihari (slow-cooked meat stew).\n",
      "\n",
      "**Midday:**\n",
      "- **Red Fort:** A UNESCO World Heritage Site, the Red Fort is a must-visit for its grandeur.\n",
      "- **Lunch at Chole Bhature at Rajma Chawal:** Try the delicious chole bhature at this local favorite, where you’ll enjoy the North Indian comfort food.\n",
      "\n",
      "**Afternoon:**\n",
      "- **Explore Chandni Chowk:** Walk through the bustling streets, where you can shop for clothes and local spices.\n",
      "- **Dessert at Jalebi Wala:** Indulge in freshly made jalebis (fried sweet) drizzled with sugar syrup. \n",
      "\n",
      "**Evening:**\n",
      "- **Visit the Gurdwara Sis Ganj Sahib:** Experience the peaceful atmosphere and learn about Sikh traditions.\n",
      "- **Dinner at Paranthe Wali Gali:** Head here for a variety of stuffed parathas (Indian flatbreads) served with pickles and curd. It’s an iconic food street experience!\n",
      "\n",
      "### Day 2: Modern Delhi and Cultural Exploration\n",
      "\n",
      "**Morning:**\n",
      "- **Qutub Minar:** Visit this UNESCO site and marvel at the architecture. It’s one of the tallest brick minarets in the world. \n",
      "- **Breakfast at Indian Accent:** For a modern twist on Indian cuisine, this restaurant serves a unique breakfast that you’ll love.\n",
      "\n",
      "**Midday:**\n",
      "- **Humayun's Tomb:** Another UNESCO World Heritage Site, this magnificent tomb is a beautiful example of Mughal architecture.\n",
      "- **Lunch at Nizam’s in Connaught Place:** Savor the famous Kathi rolls; this eatery offers a variety of delicious fillings wrapped in paratha.\n",
      "\n",
      "**Afternoon:**\n",
      "- **Lotus Temple:** Visit this Bahá'í House of Worship known for its flower-like shape and serene ambiance. \n",
      "- **Explore Dilli Haat:** An open-air market that showcases crafts and cuisines from various Indian states. You can shop for handicrafts and enjoy street food.\n",
      "\n",
      "**Evening:**\n",
      "- **Dinner at Saravana Bhavan:** Enjoy an authentic South Indian meal, complete with dosas (rice pancakes) and filter coffee.\n",
      "\n",
      "### Day 3: Cultural and Historical Sites\n",
      "\n",
      "**Morning:**\n",
      "- **Delhi Haat (if you didn’t go on Day 2):** Open in the mornings, this market is perfect for breakfast options like vada pav and idli with chutneys.\n",
      "  \n",
      "**Midday:**\n",
      "- **India Gate and Rajpath:** Visit this iconic war memorial and the Parliament House nearby.\n",
      "- **Lunch at Nando's or Cafe Lota:** Enjoy a modern dining experience, or opt for authentic Indian dishes at Cafe Lota within the National Crafts Museum.\n",
      "\n",
      "**Afternoon:**\n",
      "- **National Museum:** Explore India’s rich history through various artifacts, art, and exhibitions.\n",
      "- **Shopping at Connaught Place:** From high-end brands to local boutiques, choose your picks while enjoying the vibe.\n",
      "\n",
      "**Evening:**\n",
      "- **Dinner at Bukhara:** Famous for its Punjabi cuisine, try their kebabs and dal Bukhara for a gourmet experience.\n",
      "- **Optional: Experience nightlife at Hauz Khas Village:** Walk around the beautiful lake, explore its boutiques, and visit bars/restaurants for a lively atmosphere.\n",
      "\n",
      "### Additional Tips:\n",
      "- **Transportation:** Use the Delhi Metro for convenient and affordable travel. Auto-rickshaws and ride-share apps like Uber and Ola are also widely available.\n",
      "- **Local Specialties:** Don't hesitate to try street food like pani puri, samosas, and bhalla chaat at various places.\n",
      "- **Cultural Respect:** Dress modestly while visiting religious sites and be respectful of local customs.\n",
      "\n",
      "Enjoy your trip to Delhi, rich in culture, history, and delicious food!\n"
     ]
    }
   ],
   "source": [
    "messages = [\n",
    "    {\"role\": \"system\", \"content\": \"You are an AI travel planner.\"},\n",
    "    {\"role\": \"user\", \"content\": \"Plan a 3-day trip to Delhi.\"},\n",
    "    {\"role\": \"assistant\", \"content\": \"Sure! Day 1: Visit Delhi ...\"},\n",
    "    {\"role\": \"user\", \"content\": \"Add some local food experiences.\"},\n",
    "]\n",
    "\n",
    "response = openai.chat.completions.create(model=\"gpt-4o-mini\", messages=messages)\n",
    "print(response.choices[0].message.content)"
   ]
  },
  {
   "cell_type": "code",
   "execution_count": 25,
   "id": "e988fd48-5c2a-4f11-993e-a2aa2482767a",
   "metadata": {},
   "outputs": [
    {
     "name": "stdout",
     "output_type": "stream",
     "text": [
      "\"Character,Description\n",
      "Iron Man,Alter ego of Tony Stark, a wealthy industrialist and genius inventor who becomes a superhero after creating a powered suit of armor. He is known for his intelligence, wit, and complex personality, struggling with personal demons and his responsibilities as a hero.\"\n"
     ]
    }
   ],
   "source": [
    "\n",
    "# System Prompt Tricks: Defining Style, Format, and Rules\n",
    "\n",
    "messages = [\n",
    "    {\"role\": \"system\", \"content\": \"You are a CSV-generating bot. Always respond only in valid csv format.\"},\n",
    "    {\"role\": \"user\", \"content\": \"Give me a summary of Iron Man's character.\"}\n",
    "]\n",
    "\n",
    "response = openai.chat.completions.create(model=\"gpt-4o-mini\", messages=messages)\n",
    "print(response.choices[0].message.content)"
   ]
  },
  {
   "cell_type": "code",
   "execution_count": 26,
   "id": "89420090-da54-4948-a80d-97e8ba7b273e",
   "metadata": {},
   "outputs": [
    {
     "name": "stdout",
     "output_type": "stream",
     "text": [
      "I’m currently unable to access your order details directly. However, I recommend checking the order status on our website or app, where you can find real-time updates. If there’s a specific delivery issue, you may contact our customer service team for further assistance. Is there anything else I can help you with?\n"
     ]
    }
   ],
   "source": [
    "# Don’t store too much in system — use it to set behavior, not as a database.\n",
    "messages = [\n",
    "    {\"role\": \"system\", \"content\": \"You are a helpful customer service agent.\"},\n",
    "    {\"role\": \"user\", \"content\": \"My order ID is 4325 and it’s delayed.\"},\n",
    "    {\"role\": \"assistant\", \"content\": \"I’m sorry to hear that. I’ll check the status for order 4325.\"},\n",
    "    {\"role\": \"user\", \"content\": \"Any updates?\"}\n",
    "]\n",
    "\n",
    "response = openai.chat.completions.create(model=\"gpt-4o-mini\", messages=messages)\n",
    "print(response.choices[0].message.content)"
   ]
  },
  {
   "cell_type": "code",
   "execution_count": null,
   "id": "6ae5a52f-96c7-4512-a4d3-367588f756e7",
   "metadata": {},
   "outputs": [],
   "source": []
  }
 ],
 "metadata": {
  "kernelspec": {
   "display_name": "Python 3 (ipykernel)",
   "language": "python",
   "name": "python3"
  },
  "language_info": {
   "codemirror_mode": {
    "name": "ipython",
    "version": 3
   },
   "file_extension": ".py",
   "mimetype": "text/x-python",
   "name": "python",
   "nbconvert_exporter": "python",
   "pygments_lexer": "ipython3",
   "version": "3.11.12"
  }
 },
 "nbformat": 4,
 "nbformat_minor": 5
}
