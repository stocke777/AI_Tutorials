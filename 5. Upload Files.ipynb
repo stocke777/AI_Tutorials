{
 "cells": [
  {
   "cell_type": "code",
   "execution_count": 2,
   "id": "130edbbb-6fc9-4f10-bccb-09272bc1f7d6",
   "metadata": {},
   "outputs": [],
   "source": [
    "import os\n",
    "import PyPDF2\n",
    "import pandas as pd\n",
    "from dotenv import load_dotenv\n",
    "from openai import OpenAI"
   ]
  },
  {
   "cell_type": "code",
   "execution_count": 3,
   "id": "75a52f5c-312a-4bfb-ae5b-47e2daec6ebf",
   "metadata": {},
   "outputs": [
    {
     "name": "stdout",
     "output_type": "stream",
     "text": [
      "API key found and looks good so far!\n"
     ]
    }
   ],
   "source": [
    "load_dotenv(override=True)\n",
    "api_key = os.getenv('OPENAI_API_KEY')\n",
    "\n",
    "# Check the key\n",
    "\n",
    "if not api_key:\n",
    "    print(\"No API key was found!\")\n",
    "elif not api_key.startswith(\"sk-proj-\"):\n",
    "    print(\"An API key was found, but it doesn't start sk-proj-;\")\n",
    "elif api_key.strip() != api_key:\n",
    "    print(\"An API key was found, but it looks like it might have space or tab characters at the start or end\")\n",
    "else:\n",
    "    print(\"API key found and looks good so far!\")"
   ]
  },
  {
   "cell_type": "code",
   "execution_count": 4,
   "id": "467ca185-b764-4708-b5fb-e389195f5b2e",
   "metadata": {},
   "outputs": [],
   "source": [
    "# Read PDF\n",
    "def read_pdf(file_path):\n",
    "    with open(file_path, 'rb') as f:\n",
    "        reader = PyPDF2.PdfReader(f)\n",
    "        text = \"\"\n",
    "        for page in reader.pages:\n",
    "            text += page.extract_text() + \"\\n\"\n",
    "    return text\n"
   ]
  },
  {
   "cell_type": "code",
   "execution_count": 5,
   "id": "00c8270d-8ead-4bd4-9e1a-8bf595a0eccc",
   "metadata": {},
   "outputs": [],
   "source": [
    "# Text file\n",
    "def read_text(file_path):\n",
    "    with open(file_path, 'r') as f:\n",
    "        return f.read()"
   ]
  },
  {
   "cell_type": "code",
   "execution_count": 6,
   "id": "ae935475-98ec-4453-86cc-c7ccd220ad60",
   "metadata": {},
   "outputs": [],
   "source": [
    "# CSV file\n",
    "def read_csv(file_path):\n",
    "    df = pd.read_csv(file_path)\n",
    "    return df.to_string()"
   ]
  },
  {
   "cell_type": "code",
   "execution_count": 7,
   "id": "2a6cfa37-55b8-40c0-819b-ddac25c1416e",
   "metadata": {},
   "outputs": [],
   "source": [
    "openai = OpenAI()\n",
    "def ask_gpt(prompt, model=\"gpt-4o-mini\"):\n",
    "    response = openai.chat.completions.create(\n",
    "        model=model,\n",
    "        messages=[\n",
    "            {\"role\": \"system\", \"content\": \"You are a helpful assistant.\"},\n",
    "            {\"role\": \"user\", \"content\": prompt}\n",
    "        ],\n",
    "        temperature=0.7\n",
    "    )\n",
    "    return response.choices[0].message.content"
   ]
  },
  {
   "cell_type": "code",
   "execution_count": 8,
   "id": "7bf9cd41-1716-4c75-a990-93a8634f9d9a",
   "metadata": {},
   "outputs": [
    {
     "name": "stdout",
     "output_type": "stream",
     "text": [
      "\n",
      "--- GPT Summary for resume.pdf ---\n",
      "\n",
      "The document appears to be a resume for Jaivardhan Deshwal, a software engineer with a strong background in web development and programming. \n",
      "\n",
      "**Key Highlights:**\n",
      "\n",
      "- **Contact Information:** Includes email, phone number, and links to LinkedIn, GitHub, Medium, and Instagram.\n",
      "\n",
      "- **Technical Skills:**\n",
      "  - **Languages:** JavaScript (ES6+), TypeScript, Python.\n",
      "  - **Frontend Technologies:** React.js, Next.js, React Native, Django, HTML5, CSS3, TailwindCSS, MUI.\n",
      "  - **State Management:** React Context API, Redux, Zustand, Apollo Client, REST, JWT.\n",
      "  - **Backend Technologies:** Node.js, GraphQL, REST APIs, JWT Authentication.\n",
      "  - **Testing/Dev Tools:** Jest, SonarQube, Git, Postman.\n",
      "  - **Databases:** MongoDB, PostgreSQL, SQLite.\n",
      "  - **Other Skills:** SSR, CSR, CI/CD, Figma, Technical Writing, LangChain, Hugging Face.\n",
      "\n",
      "- **Professional Experience:**\n",
      "  - **Software Engineer at Payoneer (Aug 2024 – Apr 2025):** Developed an insurance dashboard, integrated payment gateways, enhanced help request systems, automated workflows, and monitored performance.\n",
      "  - **Frontend Developer at Skuad (Jul 2022 – Aug 2024):** Built a responsive payment checkout flow, managed onboarding flows, maintained a UI design system, automated UI testing, and led code reviews.\n",
      "  - **Software Developer Intern at Ques10 (Mar 2022 – Jun 2022):** Designed user flows, implemented JWT authentication, and developed features for user profiles.\n",
      "\n",
      "- **Education:**\n",
      "  - B.Tech in Computer Science from MSIT, GGSIPU, Delhi with a CGPA of 8.94 (2022).\n",
      "  - Completed XII (CBSE) with 90% from DPS Haridwar (2018).\n",
      "  - High School (CBSE) with a CGPA of 10 from DPS Haridwar (2016).\n",
      "\n",
      "- **Additional Information:** Mentioned awards, portfolio, course certificates in web development, AI, DSA, projects, and articles.\n",
      "\n",
      "This resume reflects a strong educational background and relevant experience in software and frontend development, with a focus on modern web technologies and agile methodologies.\n",
      "\n",
      "--- GPT Summary for text ---\n",
      "\n",
      "The document is a random text file containing a greeting to GPT, stating that it has nothing of value.\n",
      "\n",
      "--- GPT Summary for example.csv ---\n",
      "\n",
      "The CSV document contains a list of various industries, totaling 43 different sectors. These industries range from traditional fields such as Accounting/Finance, Healthcare, and Education/Training, to more modern sectors like Technology, Internet, and Green industries. It also includes specialized areas like Aerospace/Aviation, Pharmaceutical/Biotech, and Arts/Entertainment/Publishing. Additionally, there are categories related to services, such as Customer Service, Hospitality/Travel, and Professional Services, as well as sectors like Non-Profit/Volunteer and Government/Military. The list reflects a broad spectrum of employment opportunities across diverse fields.\n"
     ]
    }
   ],
   "source": [
    "files = [\n",
    "    {\"type\": \"pdf\", \"path\": \"resume.pdf\"},\n",
    "    {\"type\": \"txt\", \"path\": \"text\"},\n",
    "    {\"type\": \"csv\", \"path\": \"example.csv\"}\n",
    "]\n",
    "\n",
    "# Loop through each file and process\n",
    "for file in files:\n",
    "    file_type = file[\"type\"]\n",
    "    file_path = file[\"path\"]\n",
    "\n",
    "    if file_type == \"pdf\":\n",
    "        content = read_pdf(file_path)\n",
    "    elif file_type == \"txt\":\n",
    "        content = read_text(file_path)\n",
    "    elif file_type == \"csv\":\n",
    "        content = read_csv(file_path)\n",
    "    else:\n",
    "        print(f\"Unsupported file type: {file_type}\")\n",
    "        continue\n",
    "\n",
    "    print(f\"\\n--- GPT Summary for {file_path} ---\\n\")\n",
    "    prompt = f\"Summarize the following {file_type.upper()} document:\\n\\n{content[:3000]}\"\n",
    "    response = ask_gpt(prompt)\n",
    "    print(response)\n"
   ]
  },
  {
   "cell_type": "code",
   "execution_count": null,
   "id": "3f224ad5-f7ef-4e62-89ac-a2f3c09c0246",
   "metadata": {},
   "outputs": [],
   "source": []
  }
 ],
 "metadata": {
  "kernelspec": {
   "display_name": "Python 3 (ipykernel)",
   "language": "python",
   "name": "python3"
  },
  "language_info": {
   "codemirror_mode": {
    "name": "ipython",
    "version": 3
   },
   "file_extension": ".py",
   "mimetype": "text/x-python",
   "name": "python",
   "nbconvert_exporter": "python",
   "pygments_lexer": "ipython3",
   "version": "3.11.12"
  }
 },
 "nbformat": 4,
 "nbformat_minor": 5
}
