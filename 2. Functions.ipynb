{
 "cells": [
  {
   "cell_type": "code",
   "execution_count": 17,
   "id": "f5f929dd-e8ef-4584-9db1-d2800ca3124e",
   "metadata": {},
   "outputs": [],
   "source": [
    "import os\n",
    "from dotenv import load_dotenv\n",
    "from openai import OpenAI\n"
   ]
  },
  {
   "cell_type": "code",
   "execution_count": 18,
   "id": "2449341f-faca-47e0-a040-32ef59038662",
   "metadata": {},
   "outputs": [
    {
     "name": "stdout",
     "output_type": "stream",
     "text": [
      "API key found and looks good so far!\n"
     ]
    }
   ],
   "source": [
    "load_dotenv(override=True)\n",
    "api_key = os.getenv('OPENAI_API_KEY')\n",
    "\n",
    "# Check the key\n",
    "\n",
    "if not api_key:\n",
    "    print(\"No API key was found!\")\n",
    "elif not api_key.startswith(\"sk-proj-\"):\n",
    "    print(\"An API key was found, but it doesn't start sk-proj-;\")\n",
    "elif api_key.strip() != api_key:\n",
    "    print(\"An API key was found, but it looks like it might have space or tab characters at the start or end\")\n",
    "else:\n",
    "    print(\"API key found and looks good so far!\")"
   ]
  },
  {
   "cell_type": "code",
   "execution_count": 19,
   "id": "057c0cf1-8b10-4cef-ab55-d1211dd63068",
   "metadata": {},
   "outputs": [],
   "source": [
    "openai = OpenAI()\n"
   ]
  },
  {
   "cell_type": "code",
   "execution_count": 20,
   "id": "aa5631e6-d076-406f-a4e5-0461f182ac20",
   "metadata": {},
   "outputs": [],
   "source": [
    "# STEP 1 - Define the function GPT can use\n",
    "functions = [\n",
    "    {\n",
    "        \"name\": \"get_current_weather\",\n",
    "        \"description\": \"Get the current weather in a given location\",\n",
    "        \"parameters\": {\n",
    "            \"type\": \"object\",\n",
    "            \"properties\": {\n",
    "                \"location\": {\n",
    "                    \"type\": \"string\",\n",
    "                    \"description\": \"The city and state, e.g. San Francisco, CA\"\n",
    "                },\n",
    "                \"unit\": {\n",
    "                    \"type\": \"string\",\n",
    "                    \"enum\": [\"celsius\", \"fahrenheit\"]\n",
    "                }\n",
    "            },\n",
    "            \"required\": [\"location\"]\n",
    "        }\n",
    "    }\n",
    "]"
   ]
  },
  {
   "cell_type": "code",
   "execution_count": 21,
   "id": "ae4246f2-e909-494a-bf7e-73d553920aee",
   "metadata": {},
   "outputs": [
    {
     "name": "stdout",
     "output_type": "stream",
     "text": [
      "None\n"
     ]
    }
   ],
   "source": [
    "# STEP 2 - Let GPT decide to call the function\n",
    "response = openai.chat.completions.create(\n",
    "    model=\"gpt-4o-mini\",\n",
    "    messages=[\n",
    "        {\"role\": \"user\", \"content\": \"What's the weather like in Mumbai today?\"}\n",
    "    ],\n",
    "    tools=[{\"type\": \"function\", \"function\": functions[0]}],\n",
    "    tool_choice=\"auto\"\n",
    ")\n",
    "\n",
    "print(response.choices[0].message.content)"
   ]
  },
  {
   "cell_type": "code",
   "execution_count": 22,
   "id": "815b84e9-65c9-49c5-91c7-8a0626ed9794",
   "metadata": {},
   "outputs": [],
   "source": [
    "#STEP 3 - .Extract what it wants to call\n",
    "import json\n",
    "\n",
    "# Step 2: Extract tool call\n",
    "tool_call = response.choices[0].message.tool_calls[0]\n",
    "function_name = tool_call.function.name\n",
    "arguments = json.loads(tool_call.function.arguments)"
   ]
  },
  {
   "cell_type": "code",
   "execution_count": 23,
   "id": "bbc6fb14-e216-413e-9b64-d34c326dd89f",
   "metadata": {},
   "outputs": [],
   "source": [
    "# STEP 4 - Run the real function in your backend / Simulate function\n",
    "def get_current_weather(location, unit='celsius'):\n",
    "    # API \n",
    "    return f\"The weather in {location} is 31° {unit} with scattered clouds.\"\n",
    "\n",
    "# Call your function manually\n",
    "result = get_current_weather(**arguments)"
   ]
  },
  {
   "cell_type": "code",
   "execution_count": 29,
   "id": "db71c99a-c6b4-4eed-ad91-b0238dd77da2",
   "metadata": {},
   "outputs": [
    {
     "name": "stdout",
     "output_type": "stream",
     "text": [
      "The weather in Mumbai today is 31° Celsius with scattered clouds.\n"
     ]
    }
   ],
   "source": [
    "# Step 5: Give the result back so GPT can finish the reply\n",
    "follow_up = openai.chat.completions.create(\n",
    "    model=\"gpt-4o-mini\",\n",
    "    messages=[\n",
    "        {\"role\": \"user\", \"content\": \"What' the weather like in Mumbai today?\"},\n",
    "        response.choices[0].message,  # tool_call message\n",
    "        {\"role\": \"tool\", \"tool_call_id\": tool_call.id, \"content\": result}\n",
    "    ]\n",
    ")\n",
    "\n",
    "print(follow_up.choices[0].message.content)"
   ]
  },
  {
   "cell_type": "code",
   "execution_count": null,
   "id": "5dd010c6-22a2-4bc7-82d7-0f5e375e51b4",
   "metadata": {},
   "outputs": [],
   "source": []
  }
 ],
 "metadata": {
  "kernelspec": {
   "display_name": "Python 3 (ipykernel)",
   "language": "python",
   "name": "python3"
  },
  "language_info": {
   "codemirror_mode": {
    "name": "ipython",
    "version": 3
   },
   "file_extension": ".py",
   "mimetype": "text/x-python",
   "name": "python",
   "nbconvert_exporter": "python",
   "pygments_lexer": "ipython3",
   "version": "3.11.12"
  }
 },
 "nbformat": 4,
 "nbformat_minor": 5
}
