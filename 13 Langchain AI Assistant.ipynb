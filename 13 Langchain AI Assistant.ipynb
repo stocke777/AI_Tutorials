{
 "cells": [
  {
   "cell_type": "code",
   "execution_count": 1,
   "id": "37eb6b9c-5437-4a58-b259-a31247ebeebf",
   "metadata": {},
   "outputs": [
    {
     "name": "stdout",
     "output_type": "stream",
     "text": [
      "API key found and looks good so far!\n"
     ]
    }
   ],
   "source": [
    "import os\n",
    "from dotenv import load_dotenv\n",
    "from openai import OpenAI\n",
    "\n",
    "load_dotenv(override=True)\n",
    "api_key = os.getenv('OPENAI_API_KEY')\n",
    "\n",
    "# Check the key\n",
    "\n",
    "if not api_key:\n",
    "    print(\"No API key was found!\")\n",
    "elif not api_key.startswith(\"sk-proj-\"):\n",
    "    print(\"An API key was found, but it doesn't start sk-proj-;\")\n",
    "elif api_key.strip() != api_key:\n",
    "    print(\"An API key was found, but it looks like it might have space or tab characters at the start or end\")\n",
    "else:\n",
    "    print(\"API key found and looks good so far!\")"
   ]
  },
  {
   "cell_type": "code",
   "execution_count": null,
   "id": "f11f2f49-8b37-49a8-a5a4-b8c98fb95403",
   "metadata": {},
   "outputs": [],
   "source": [
    "import asyncio\n",
    "from langchain_openai import OpenAI\n",
    "from langchain.memory import ConversationBufferWindowMemory\n",
    "from langchain.chains import ConversationChain\n",
    "from langchain.prompts import PromptTemplate"
   ]
  },
  {
   "cell_type": "code",
   "execution_count": null,
   "id": "b0c9f4b6-ca4b-4e3c-b639-ec834011bb7f",
   "metadata": {},
   "outputs": [],
   "source": [
    "class EnhancedAIAssistant:\n",
    "    def __init__(self):\n",
    "        self.llm = OpenAI(\n",
    "            temperature=0.7,\n",
    "            streaming=True\n",
    "        )\n",
    "        \n",
    "        # Memory that keeps last 10 exchanges\n",
    "        self.memory = ConversationBufferWindowMemory(k=10)\n",
    "        \n",
    "        # Custom prompt template\n",
    "        template = \"\"\"\n",
    "        You are a sarcastic AI assistant named Chungus. \n",
    "        You are knowledgeable but responds with funny sarcasm.\n",
    "        \n",
    "        Current conversation:\n",
    "        {history}\n",
    "        \n",
    "        Human: {input}\n",
    "        Chungus:\"\"\"\n",
    "        \n",
    "        prompt = PromptTemplate(\n",
    "            input_variables=[\"history\", \"input\"],\n",
    "            template=template\n",
    "        )\n",
    "        \n",
    "        self.conversation = ConversationChain(\n",
    "            llm=self.llm,\n",
    "            memory=self.memory,\n",
    "            prompt=prompt,\n",
    "            verbose=False\n",
    "        )\n",
    "    \n",
    "    def chat(self, message):\n",
    "        \"\"\"Chat with the assistant\"\"\"\n",
    "        return self.conversation.predict(input=message)\n",
    "    \n",
    "    def clear_memory(self):\n",
    "        \"\"\"Clear conversation history\"\"\"\n",
    "        self.memory.clear()\n",
    "        print(\"Memory cleared!\")"
   ]
  },
  {
   "cell_type": "code",
   "execution_count": null,
   "id": "6c785ac5-c094-4dda-a7b8-e97b1def4ade",
   "metadata": {},
   "outputs": [],
   "source": [
    "# Usage example\n",
    "if __name__ == \"__main__\":\n",
    "    print(\"Commands: 'clear' to clear memory, 'quit' to exit\\n\")\n",
    "    \n",
    "    assistant = EnhancedAIAssistant()\n",
    "    \n",
    "    while True:\n",
    "        user_input = input(\"You: \")\n",
    "        \n",
    "        if user_input.lower() == 'quit':\n",
    "            break\n",
    "        elif user_input.lower() == 'clear':\n",
    "            assistant.clear_memory()\n",
    "            continue\n",
    "        \n",
    "        response = assistant.chat(user_input)\n",
    "        print(f\"Chungus: {response}\\n\")"
   ]
  },
  {
   "cell_type": "code",
   "execution_count": null,
   "id": "fecc2b4b-9a90-43ed-83ea-fad1f49455d2",
   "metadata": {},
   "outputs": [],
   "source": []
  }
 ],
 "metadata": {
  "kernelspec": {
   "display_name": "Python 3 (ipykernel)",
   "language": "python",
   "name": "python3"
  },
  "language_info": {
   "codemirror_mode": {
    "name": "ipython",
    "version": 3
   },
   "file_extension": ".py",
   "mimetype": "text/x-python",
   "name": "python",
   "nbconvert_exporter": "python",
   "pygments_lexer": "ipython3",
   "version": "3.11.12"
  }
 },
 "nbformat": 4,
 "nbformat_minor": 5
}
