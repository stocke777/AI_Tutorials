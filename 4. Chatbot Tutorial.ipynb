{
 "cells": [
  {
   "cell_type": "code",
   "execution_count": 24,
   "id": "5693fc79-1981-4721-b2d0-b0c897a2b443",
   "metadata": {},
   "outputs": [],
   "source": [
    "import os\n",
    "import gradio as gr\n",
    "from dotenv import load_dotenv\n",
    "from openai import OpenAI\n"
   ]
  },
  {
   "cell_type": "code",
   "execution_count": 25,
   "id": "07007a3a-f248-4ab0-b7d5-e321e0454bed",
   "metadata": {},
   "outputs": [
    {
     "name": "stdout",
     "output_type": "stream",
     "text": [
      "API key found and looks good so far!\n"
     ]
    }
   ],
   "source": [
    "load_dotenv(override=True)\n",
    "api_key = os.getenv('OPENAI_API_KEY')\n",
    "\n",
    "# Check the key\n",
    "\n",
    "if not api_key:\n",
    "    print(\"No API key was found!\")\n",
    "elif not api_key.startswith(\"sk-proj-\"):\n",
    "    print(\"An API key was found, but it doesn't start sk-proj-;\")\n",
    "elif api_key.strip() != api_key:\n",
    "    print(\"An API key was found, but it looks like it might have space or tab characters at the start or end\")\n",
    "else:\n",
    "    print(\"API key found and looks good so far!\")"
   ]
  },
  {
   "cell_type": "code",
   "execution_count": 26,
   "id": "77f81225-dc4e-41bb-8955-1b37cef54f18",
   "metadata": {},
   "outputs": [],
   "source": [
    "openai = OpenAI()"
   ]
  },
  {
   "cell_type": "code",
   "execution_count": 27,
   "id": "6e2e7a37-5d10-4a76-bef1-f7857fab2c8c",
   "metadata": {},
   "outputs": [],
   "source": [
    "gr.close_all()"
   ]
  },
  {
   "cell_type": "code",
   "execution_count": 29,
   "id": "2f5b43ca-e957-4d2e-a943-9e6ca254b09c",
   "metadata": {},
   "outputs": [],
   "source": [
    "# This will hold the messages for the chat history between user and assistant\n",
    "chat_history_for_openai = []\n",
    "\n",
    "def chatbot(user_message, chat_history):\n",
    "    # Add user message to openai format history\n",
    "    chat_history_for_openai.append({\"role\": \"user\", \"content\": user_message})\n",
    "\n",
    "    # Call OpenAI GPT API\n",
    "    response = openai.chat.completions.create(\n",
    "        model=\"gpt-4o-mini\",  # or gpt-4\n",
    "        messages=chat_history_for_openai\n",
    "    )\n",
    "\n",
    "    bot_reply = response.choices[0].message.content\n",
    "\n",
    "    # Add assistant reply to history\n",
    "    chat_history_for_openai.append({\"role\": \"assistant\", \"content\": bot_reply})\n",
    "\n",
    "    # Append to the visible chat history (list of (user, bot) tuples)\n",
    "    chat_history.append({\"role\": \"user\", \"content\": user_message})\n",
    "    chat_history.append({\"role\": \"assistant\", \"content\": bot_reply})\n",
    "\n",
    "    return chat_history, \"\""
   ]
  },
  {
   "cell_type": "code",
   "execution_count": 30,
   "id": "26d7051c-25b6-412a-b8b3-d388e4873415",
   "metadata": {},
   "outputs": [
    {
     "name": "stdout",
     "output_type": "stream",
     "text": [
      "* Running on local URL:  http://127.0.0.1:7867\n",
      "* To create a public link, set `share=True` in `launch()`.\n"
     ]
    },
    {
     "data": {
      "text/html": [
       "<div><iframe src=\"http://127.0.0.1:7867/\" width=\"100%\" height=\"500\" allow=\"autoplay; camera; microphone; clipboard-read; clipboard-write;\" frameborder=\"0\" allowfullscreen></iframe></div>"
      ],
      "text/plain": [
       "<IPython.core.display.HTML object>"
      ]
     },
     "metadata": {},
     "output_type": "display_data"
    },
    {
     "data": {
      "text/plain": []
     },
     "execution_count": 30,
     "metadata": {},
     "output_type": "execute_result"
    }
   ],
   "source": [
    "# Create Gradio Interface\n",
    "with gr.Blocks() as demo:\n",
    "    chatbot_component = gr.Chatbot(label=\"GPT Chatbot\", type=\"messages\")\n",
    "    msg = gr.Textbox(placeholder=\"Type your message here...\")\n",
    "    clear_btn = gr.Button(\"Clear Chat\")\n",
    "\n",
    "    # When msg is submitted, call chatbot function\n",
    "    msg.submit(chatbot, inputs=[msg, chatbot_component], outputs=[chatbot_component, msg])\n",
    "    clear_btn.click(lambda: ([], []), inputs=None, outputs=[chatbot_component, msg])\n",
    "\n",
    "demo.launch()"
   ]
  },
  {
   "cell_type": "code",
   "execution_count": null,
   "id": "683d0f9f-437c-496d-b846-6d8b4cd088f0",
   "metadata": {},
   "outputs": [],
   "source": []
  }
 ],
 "metadata": {
  "kernelspec": {
   "display_name": "Python 3 (ipykernel)",
   "language": "python",
   "name": "python3"
  },
  "language_info": {
   "codemirror_mode": {
    "name": "ipython",
    "version": 3
   },
   "file_extension": ".py",
   "mimetype": "text/x-python",
   "name": "python",
   "nbconvert_exporter": "python",
   "pygments_lexer": "ipython3",
   "version": "3.11.12"
  }
 },
 "nbformat": 4,
 "nbformat_minor": 5
}
