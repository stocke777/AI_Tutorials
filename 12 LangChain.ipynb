{
 "cells": [
  {
   "cell_type": "code",
   "execution_count": null,
   "id": "ebd6c8d9-5f15-4917-b16f-1426b8847290",
   "metadata": {},
   "outputs": [],
   "source": [
    "import os\n",
    "from dotenv import load_dotenv\n",
    "from openai import OpenAI"
   ]
  },
  {
   "cell_type": "code",
   "execution_count": null,
   "id": "d1a5e7a6-4d7b-46c3-b662-c30b972a4159",
   "metadata": {},
   "outputs": [],
   "source": [
    "load_dotenv(override=True)\n",
    "api_key = os.getenv('OPENAI_API_KEY')\n",
    "\n",
    "# Check the key\n",
    "\n",
    "if not api_key:\n",
    "    print(\"No API key was found!\")\n",
    "elif not api_key.startswith(\"sk-proj-\"):\n",
    "    print(\"An API key was found, but it doesn't start sk-proj-;\")\n",
    "elif api_key.strip() != api_key:\n",
    "    print(\"An API key was found, but it looks like it might have space or tab characters at the start or end\")\n",
    "else:\n",
    "    print(\"API key found and looks good so far!\")"
   ]
  },
  {
   "cell_type": "code",
   "execution_count": null,
   "id": "8af37207-8aa8-4f52-8689-f7b51cf9fb7a",
   "metadata": {},
   "outputs": [],
   "source": [
    "# pip install langchain-openai\n",
    "from langchain.agents import initialize_agent, Tool\n",
    "from langchain_openai import OpenAI"
   ]
  },
  {
   "cell_type": "code",
   "execution_count": null,
   "id": "8ad6fc31-7690-45b3-a061-66b9dd1ad08d",
   "metadata": {},
   "outputs": [],
   "source": [
    "def do_math(expression):\n",
    "    try:\n",
    "        # For percentage calculations, you might want to handle them specifically\n",
    "        if \"%\" in expression:\n",
    "            # Simple percentage handler\n",
    "            parts = expression.split(\"%\")\n",
    "            if \"of\" in parts[1]:\n",
    "                percentage = float(parts[0])\n",
    "                number = float(parts[1].split(\"of\")[1].strip())\n",
    "                return str((percentage / 100) * number)\n",
    "        return str(eval(expression))\n",
    "    except:\n",
    "        return \"Error in calculation\""
   ]
  },
  {
   "cell_type": "code",
   "execution_count": null,
   "id": "ea57a27a-142f-4c2d-b1df-83709cb25818",
   "metadata": {},
   "outputs": [],
   "source": [
    "tools = [Tool(name=\"Calculator\", func=do_math, description=\"Useful for math calculations\")]\n",
    "agent = initialize_agent(tools, OpenAI(), agent=\"zero-shot-react-description\")\n",
    "agent.run(\"What is 15% of 350?\")"
   ]
  },
  {
   "cell_type": "code",
   "execution_count": null,
   "id": "66604a73-4eb2-4330-a5bd-930d56baeb7a",
   "metadata": {},
   "outputs": [],
   "source": []
  }
 ],
 "metadata": {
  "kernelspec": {
   "display_name": "Python 3 (ipykernel)",
   "language": "python",
   "name": "python3"
  },
  "language_info": {
   "codemirror_mode": {
    "name": "ipython",
    "version": 3
   },
   "file_extension": ".py",
   "mimetype": "text/x-python",
   "name": "python",
   "nbconvert_exporter": "python",
   "pygments_lexer": "ipython3",
   "version": "3.11.12"
  }
 },
 "nbformat": 4,
 "nbformat_minor": 5
}
